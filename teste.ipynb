{
 "cells": [
  {
   "cell_type": "code",
   "execution_count": 2,
   "id": "51ea31e2",
   "metadata": {},
   "outputs": [],
   "source": [
    "import requests\n",
    "\n",
    "endpoint = \"https://api.lyrics.ovh/v1/titas/flores\"\n",
    "\n",
    "response = requests.get(endpoint)"
   ]
  },
  {
   "cell_type": "code",
   "execution_count": 4,
   "id": "f18435a8",
   "metadata": {},
   "outputs": [
    {
     "data": {
      "text/plain": [
       "{'lyrics': 'Olhei até ficar cansado de ver os meus olhos no espelho\\r\\nChorei por ter despedaçado\\r\\nAs flores que estão no canteiro\\r\\nOs punhos e os pulsos cortados\\r\\nE o resto do meu corpo inteiro\\n\\nHá flores cobrindo o telhado\\n\\nEmbaixo do meu travesseiro\\n\\nHá flores por todos os lados\\n\\nHá flores em tudo o que eu vejo\\n\\n\\n\\nA dor vai curar essas lástimas\\n\\nO soro tem gosto de lágrimas\\n\\nAs flores tem cheiro de morte\\n\\nA dor vai fechar esses cortes\\n\\n\\n\\nFlores\\n\\nFlores\\n\\nAs flores de plástico não morrem'}"
      ]
     },
     "execution_count": 4,
     "metadata": {},
     "output_type": "execute_result"
    }
   ],
   "source": [
    "response.json()"
   ]
  }
 ],
 "metadata": {
  "kernelspec": {
   "display_name": "Python 3",
   "language": "python",
   "name": "python3"
  },
  "language_info": {
   "codemirror_mode": {
    "name": "ipython",
    "version": 3
   },
   "file_extension": ".py",
   "mimetype": "text/x-python",
   "name": "python",
   "nbconvert_exporter": "python",
   "pygments_lexer": "ipython3",
   "version": "3.13.2"
  }
 },
 "nbformat": 4,
 "nbformat_minor": 5
}
